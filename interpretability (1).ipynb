{
  "cells": [
    {
      "cell_type": "code",
      "source": [
        "from sklearn.pipeline import Pipeline\r\n",
        "from sklearn.impute import SimpleImputer\r\n",
        "from sklearn.preprocessing import StandardScaler, OneHotEncoder\r\n",
        "from sklearn.linear_model import LogisticRegression\r\n",
        "import pandas as pd\r\n",
        "import numpy as np\r\n",
        "\r\n",
        "# Explainers:\r\n",
        "# 1. SHAP Tabular Explainer\r\n",
        "from interpret.ext.blackbox import TabularExplainer\r\n",
        "\r\n",
        "# OR\r\n",
        "\r\n",
        "# 2. Mimic Explainer\r\n",
        "from interpret.ext.blackbox import MimicExplainer\r\n",
        "# You can use one of the following four interpretable models as a global surrogate to the black box model\r\n",
        "from interpret.ext.glassbox import LGBMExplainableModel\r\n",
        "from interpret.ext.glassbox import LinearExplainableModel\r\n",
        "from interpret.ext.glassbox import SGDExplainableModel\r\n",
        "from interpret.ext.glassbox import DecisionTreeExplainableModel\r\n",
        "titanic_url = ('https://raw.githubusercontent.com/amueller/'\r\n",
        "               'scipy-2017-sklearn/091d371/notebooks/datasets/titanic3.csv')\r\n",
        "data = pd.read_csv(titanic_url)\r\n",
        "# fill missing values\r\n",
        "data = data.fillna(method=\"ffill\")\r\n",
        "data = data.fillna(method=\"bfill\")"
      ],
      "outputs": [],
      "execution_count": 2,
      "metadata": {
        "gather": {
          "logged": 1630217760686
        }
      }
    },
    {
      "cell_type": "code",
      "source": [
        "\r\n",
        "from sklearn.model_selection import train_test_split\r\n",
        "\r\n",
        "numeric_features = ['age', 'fare']\r\n",
        "categorical_features = ['embarked', 'sex', 'pclass']\r\n",
        "\r\n",
        "y = data['survived'].values\r\n",
        "X = data[categorical_features + numeric_features]\r\n",
        "\r\n",
        "# Split data into train and test\r\n",
        "x_train, x_test, y_train, y_test = train_test_split(X, y, test_size=0.2, random_state=42)"
      ],
      "outputs": [],
      "execution_count": 3,
      "metadata": {
        "collapsed": true,
        "jupyter": {
          "source_hidden": false,
          "outputs_hidden": false
        },
        "nteract": {
          "transient": {
            "deleting": false
          }
        },
        "gather": {
          "logged": 1630217790028
        }
      }
    },
    {
      "cell_type": "code",
      "source": [
        "# We add many to one and many to many transformations for illustration purposes.\r\n",
        "# The support for raw feature explanations with many to one and many to many transformations are only supported \r\n",
        "# When allow_all_transformations is set to True on explainer creation\r\n",
        "from sklearn.preprocessing import FunctionTransformer\r\n",
        "many_to_one_transformer = FunctionTransformer(lambda x: x.sum(axis=1).reshape(-1, 1), validate=True)\r\n",
        "many_to_many_transformer = FunctionTransformer(lambda x: np.hstack(\r\n",
        "    (np.prod(x, axis=1).reshape(-1, 1), (np.prod(x, axis=1)**2).reshape(-1, 1))\r\n",
        "), validate=True)"
      ],
      "outputs": [],
      "execution_count": 4,
      "metadata": {
        "collapsed": true,
        "jupyter": {
          "source_hidden": false,
          "outputs_hidden": false
        },
        "nteract": {
          "transient": {
            "deleting": false
          }
        },
        "gather": {
          "logged": 1630217803650
        }
      }
    },
    {
      "cell_type": "code",
      "source": [
        "\r\n",
        "from sklearn.compose import ColumnTransformer\r\n",
        "\r\n",
        "transformations = ColumnTransformer([\r\n",
        "    (\"age_fare_1\", Pipeline(steps=[\r\n",
        "        ('imputer', SimpleImputer(strategy='median')),\r\n",
        "        ('scaler', StandardScaler())\r\n",
        "    ]), [\"age\", \"fare\"]),\r\n",
        "    (\"age_fare_2\", many_to_one_transformer, [\"age\", \"fare\"]),\r\n",
        "    (\"age_fare_3\", many_to_many_transformer, [\"age\", \"fare\"]),\r\n",
        "    (\"embarked\", Pipeline(steps=[\r\n",
        "        (\"imputer\", SimpleImputer(strategy='constant', fill_value='missing')), \r\n",
        "        (\"encoder\", OneHotEncoder(sparse=False))]), [\"embarked\"]),\r\n",
        "    (\"sex_pclass\", OneHotEncoder(sparse=False), [\"sex\", \"pclass\"])    \r\n",
        "])"
      ],
      "outputs": [],
      "execution_count": 5,
      "metadata": {
        "collapsed": true,
        "jupyter": {
          "source_hidden": false,
          "outputs_hidden": false
        },
        "nteract": {
          "transient": {
            "deleting": false
          }
        },
        "gather": {
          "logged": 1630217815661
        }
      }
    },
    {
      "cell_type": "code",
      "source": [
        "!pip install sklearn-pandas"
      ],
      "outputs": [
        {
          "output_type": "stream",
          "name": "stdout",
          "text": [
            "Requirement already satisfied: sklearn-pandas in /anaconda/envs/azureml_py36/lib/python3.6/site-packages (1.7.0)\r\n",
            "Requirement already satisfied: numpy>=1.6.1 in /anaconda/envs/azureml_py36/lib/python3.6/site-packages (from sklearn-pandas) (1.18.5)\r\n",
            "Requirement already satisfied: scikit-learn>=0.15.0 in /anaconda/envs/azureml_py36/lib/python3.6/site-packages (from sklearn-pandas) (0.22.2.post1)\r\n",
            "Requirement already satisfied: pandas>=0.11.0 in /anaconda/envs/azureml_py36/lib/python3.6/site-packages (from sklearn-pandas) (0.25.3)\r\n",
            "Requirement already satisfied: scipy>=0.14 in /anaconda/envs/azureml_py36/lib/python3.6/site-packages (from sklearn-pandas) (1.5.2)\r\n",
            "Requirement already satisfied: joblib>=0.11 in /anaconda/envs/azureml_py36/lib/python3.6/site-packages (from scikit-learn>=0.15.0->sklearn-pandas) (0.14.1)\r\n",
            "Requirement already satisfied: python-dateutil>=2.6.1 in /anaconda/envs/azureml_py36/lib/python3.6/site-packages (from pandas>=0.11.0->sklearn-pandas) (2.8.2)\r\n",
            "Requirement already satisfied: pytz>=2017.2 in /anaconda/envs/azureml_py36/lib/python3.6/site-packages (from pandas>=0.11.0->sklearn-pandas) (2021.1)\r\n",
            "Requirement already satisfied: six>=1.5 in /anaconda/envs/azureml_py36/lib/python3.6/site-packages (from python-dateutil>=2.6.1->pandas>=0.11.0->sklearn-pandas) (1.16.0)\r\n"
          ]
        }
      ],
      "execution_count": 6,
      "metadata": {
        "collapsed": true,
        "jupyter": {
          "source_hidden": false,
          "outputs_hidden": false
        },
        "nteract": {
          "transient": {
            "deleting": false
          }
        }
      }
    },
    {
      "cell_type": "code",
      "source": [
        "from sklearn_pandas import DataFrameMapper"
      ],
      "outputs": [],
      "execution_count": 7,
      "metadata": {
        "collapsed": true,
        "jupyter": {
          "source_hidden": false,
          "outputs_hidden": false
        },
        "nteract": {
          "transient": {
            "deleting": false
          }
        },
        "gather": {
          "logged": 1630217866160
        }
      }
    },
    {
      "cell_type": "code",
      "source": [
        "transformations = [\r\n",
        "    ([\"age\", \"fare\"], Pipeline(steps=[\r\n",
        "        ('imputer', SimpleImputer(strategy='median')),\r\n",
        "        ('scaler', StandardScaler())\r\n",
        "    ])),\r\n",
        "    ([\"age\", \"fare\"], many_to_one_transformer),\r\n",
        "    ([\"age\", \"fare\"], many_to_many_transformer),\r\n",
        "    ([\"embarked\"], Pipeline(steps=[\r\n",
        "        (\"imputer\", SimpleImputer(strategy='constant', fill_value='missing')), \r\n",
        "        (\"encoder\", OneHotEncoder(sparse=False))])),\r\n",
        "    ([\"sex\", \"pclass\"], OneHotEncoder(sparse=False))    \r\n",
        "]"
      ],
      "outputs": [],
      "execution_count": 8,
      "metadata": {
        "collapsed": true,
        "jupyter": {
          "source_hidden": false,
          "outputs_hidden": false
        },
        "nteract": {
          "transient": {
            "deleting": false
          }
        },
        "gather": {
          "logged": 1630217876841
        }
      }
    },
    {
      "cell_type": "code",
      "source": [
        "clf = Pipeline(steps=[('preprocessor', DataFrameMapper(transformations)),\r\n",
        "                      ('classifier', LogisticRegression(solver='lbfgs'))])"
      ],
      "outputs": [],
      "execution_count": 12,
      "metadata": {
        "collapsed": true,
        "jupyter": {
          "source_hidden": false,
          "outputs_hidden": false
        },
        "nteract": {
          "transient": {
            "deleting": false
          }
        },
        "gather": {
          "logged": 1630217979683
        }
      }
    },
    {
      "cell_type": "code",
      "source": [
        "model = clf.fit(x_train, y_train)"
      ],
      "outputs": [],
      "execution_count": 13,
      "metadata": {
        "collapsed": true,
        "jupyter": {
          "source_hidden": false,
          "outputs_hidden": false
        },
        "nteract": {
          "transient": {
            "deleting": false
          }
        },
        "gather": {
          "logged": 1630218000176
        }
      }
    },
    {
      "cell_type": "code",
      "source": [
        "# 1. Using SHAP TabularExplainer\r\n",
        "# When the last parameter allow_all_transformations is passed, we handle many to one and many to many transformations to \r\n",
        "# generate approximations to raw feature importances. When this flag is passed, for transformations not recognized as one to \r\n",
        "# many, we distribute feature importances evenly to raw features generating them.\r\n",
        "# clf.steps[-1][1] returns the trained classification model\r\n",
        "explainer = TabularExplainer(clf.steps[-1][1], \r\n",
        "                             initialization_examples=x_train, \r\n",
        "                             features=x_train.columns, \r\n",
        "                             transformations=transformations, \r\n",
        "                             allow_all_transformations=True)"
      ],
      "outputs": [
        {
          "output_type": "stream",
          "name": "stderr",
          "text": [
            "Changing the sparsity structure of a csr_matrix is expensive. lil_matrix is more efficient.\n",
            "Changing the sparsity structure of a csr_matrix is expensive. lil_matrix is more efficient.\n",
            "Changing the sparsity structure of a csr_matrix is expensive. lil_matrix is more efficient.\n",
            "Changing the sparsity structure of a csr_matrix is expensive. lil_matrix is more efficient.\n",
            "The option feature_dependence has been renamed to feature_perturbation!\n",
            "The option feature_perturbation=\"independent\" is has been renamed to feature_perturbation=\"interventional\"!\n",
            "The feature_perturbation option is now deprecated in favor of using the appropriate masker (maskers.Independent, or maskers.Impute)\n"
          ]
        }
      ],
      "execution_count": 14,
      "metadata": {
        "collapsed": true,
        "jupyter": {
          "source_hidden": false,
          "outputs_hidden": false
        },
        "nteract": {
          "transient": {
            "deleting": false
          }
        },
        "gather": {
          "logged": 1630218024010
        }
      }
    },
    {
      "cell_type": "code",
      "source": [
        "explainer"
      ],
      "outputs": [
        {
          "output_type": "execute_result",
          "execution_count": 15,
          "data": {
            "text/plain": "<interpret_community.tabular_explainer.TabularExplainer at 0x7f30799b7e48>"
          },
          "metadata": {}
        }
      ],
      "execution_count": 15,
      "metadata": {
        "collapsed": true,
        "jupyter": {
          "source_hidden": false,
          "outputs_hidden": false
        },
        "nteract": {
          "transient": {
            "deleting": false
          }
        },
        "gather": {
          "logged": 1630218065661
        }
      }
    },
    {
      "cell_type": "code",
      "source": [
        "# 2. Using MimicExplainer\r\n",
        "# augment_data is optional and if true, oversamples the initialization examples to improve surrogate model accuracy to fit original model.  Useful for high-dimensional data where the number of rows is less than the number of columns. \r\n",
        "# max_num_of_augmentations is optional and defines max number of times we can increase the input data size.\r\n",
        "# LGBMExplainableModel can be replaced with LinearExplainableModel, SGDExplainableModel, or DecisionTreeExplainableModel\r\n",
        "explainer2 = MimicExplainer(clf.steps[-1][1], \r\n",
        "                            x_train, \r\n",
        "                            LGBMExplainableModel, \r\n",
        "                            augment_data=True, \r\n",
        "                            max_num_of_augmentations=10, \r\n",
        "                            features=x_train.columns, \r\n",
        "                            transformations=transformations, \r\n",
        "                            allow_all_transformations=True)\r\n",
        "\r\n",
        "\r\n",
        "\r\n",
        "\r\n",
        "\r\n",
        "# 3. Using PFIExplainer\r\n",
        "\r\n",
        "# Use the parameter \"metric\" to pass a metric name or function to evaluate the permutation. \r\n",
        "# Note that if a metric function is provided a higher value must be better.\r\n",
        "# Otherwise, take the negative of the function or set the parameter \"is_error_metric\" to True.\r\n",
        "# Default metrics: \r\n",
        "# F1 Score for binary classification, F1 Score with micro average for multiclass classification and\r\n",
        "# Mean absolute error for regression\r\n",
        "\r\n",
        "\r\n",
        "# explainer = PFIExplainer(clf.steps[-1][1], \r\n",
        "#                          features=x_train.columns, \r\n",
        "#                          transformations=transformations)"
      ],
      "outputs": [
        {
          "output_type": "stream",
          "name": "stderr",
          "text": [
            "Changing the sparsity structure of a csr_matrix is expensive. lil_matrix is more efficient.\n",
            "Changing the sparsity structure of a csr_matrix is expensive. lil_matrix is more efficient.\n"
          ]
        }
      ],
      "execution_count": 16,
      "metadata": {
        "collapsed": true,
        "jupyter": {
          "source_hidden": false,
          "outputs_hidden": false
        },
        "nteract": {
          "transient": {
            "deleting": false
          }
        },
        "gather": {
          "logged": 1630218119084
        }
      }
    },
    {
      "cell_type": "code",
      "source": [
        "# 3. Using PFIExplainer\r\n",
        "\r\n",
        "# Use the parameter \"metric\" to pass a metric name or function to evaluate the permutation. \r\n",
        "# Note that if a metric function is provided a higher value must be better.\r\n",
        "# Otherwise, take the negative of the function or set the parameter \"is_error_metric\" to True.\r\n",
        "# Default metrics: \r\n",
        "# F1 Score for binary classification, F1 Score with micro average for multiclass classification and\r\n",
        "# Mean absolute error for regression\r\n",
        "\r\n",
        "\r\n",
        "#explainer3 = PFIExplainer(clf.steps[-1][1], \r\n",
        "                          features=x_train.columns, \r\n",
        "                          transformations=transformations)\r\n"
      ],
      "outputs": [
        {
          "output_type": "error",
          "ename": "IndentationError",
          "evalue": "unexpected indent (<ipython-input-18-1217136fe970>, line 12)",
          "traceback": [
            "\u001b[0;36m  File \u001b[0;32m\"<ipython-input-18-1217136fe970>\"\u001b[0;36m, line \u001b[0;32m12\u001b[0m\n\u001b[0;31m    features=x_train.columns,\u001b[0m\n\u001b[0m    ^\u001b[0m\n\u001b[0;31mIndentationError\u001b[0m\u001b[0;31m:\u001b[0m unexpected indent\n"
          ]
        }
      ],
      "execution_count": 18,
      "metadata": {
        "collapsed": true,
        "jupyter": {
          "source_hidden": false,
          "outputs_hidden": true
        },
        "nteract": {
          "transient": {
            "deleting": false
          }
        }
      }
    },
    {
      "cell_type": "code",
      "source": [
        "# Passing in test dataset for evaluation examples - note it must be a representative sample of the original data\r\n",
        "# x_train can be passed as well, but with more examples explanations will take longer although they may be more accurate\r\n",
        "\r\n",
        "global_explanation = explainer.explain_global(x_test)\r\n",
        "\r\n",
        "# Note: if you used the PFIExplainer in the previous step, use the next line of code instead\r\n",
        "# global_explanation = explainer.explain_global(x_test, true_labels=y_test)"
      ],
      "outputs": [
        {
          "output_type": "stream",
          "name": "stdout",
          "text": [
            "Many to one/many maps found in input\n"
          ]
        },
        {
          "output_type": "stream",
          "name": "stderr",
          "text": [
            "Changing the sparsity structure of a csr_matrix is expensive. lil_matrix is more efficient.\n",
            "Changing the sparsity structure of a csr_matrix is expensive. lil_matrix is more efficient.\n"
          ]
        }
      ],
      "execution_count": 19,
      "metadata": {
        "collapsed": true,
        "jupyter": {
          "source_hidden": false,
          "outputs_hidden": false
        },
        "nteract": {
          "transient": {
            "deleting": false
          }
        },
        "gather": {
          "logged": 1630218241703
        }
      }
    },
    {
      "cell_type": "code",
      "source": [
        "# Sorted SHAP values\r\n",
        "print('ranked global importance values: {}'.format(global_explanation.get_ranked_global_values()))\r\n",
        "# Corresponding feature names\r\n",
        "print('ranked global importance names: {}'.format(global_explanation.get_ranked_global_names()))\r\n",
        "# Feature ranks (based on original order of features)\r\n",
        "print('global importance rank: {}'.format(global_explanation.global_importance_rank))\r\n",
        "# Per class feature names\r\n",
        "print('ranked per class feature names: {}'.format(global_explanation.get_ranked_per_class_names()))\r\n",
        "# Per class feature importance values\r\n",
        "print('ranked per class feature values: {}'.format(global_explanation.get_ranked_per_class_values()))"
      ],
      "outputs": [
        {
          "output_type": "stream",
          "name": "stdout",
          "text": [
            "ranked global importance values: [0.026931014185821292, 0.026931014185816903, 1.1112543378382588e-14, 5.754780545608044e-15, 5.061392803096062e-15]\n",
            "ranked global importance names: ['fare', 'age', 'sex', 'pclass', 'embarked']\n",
            "global importance rank: [4, 3, 1, 2, 0]\n",
            "ranked per class feature names: [['fare', 'age', 'sex', 'pclass', 'embarked'], ['fare', 'age', 'sex', 'pclass', 'embarked']]\n",
            "ranked per class feature values: [[0.026931014185821292, 0.026931014185816903, 1.1112543378382588e-14, 5.754780545608044e-15, 5.061392803096062e-15], [0.026931014185821292, 0.026931014185816903, 1.1112543378382588e-14, 5.754780545608044e-15, 5.061392803096062e-15]]\n"
          ]
        }
      ],
      "execution_count": 20,
      "metadata": {
        "collapsed": true,
        "jupyter": {
          "source_hidden": false,
          "outputs_hidden": false
        },
        "nteract": {
          "transient": {
            "deleting": false
          }
        },
        "gather": {
          "logged": 1630218258037
        }
      }
    },
    {
      "cell_type": "code",
      "source": [
        "# Print out a dictionary that holds the sorted feature importance names and values\r\n",
        "print('global importance rank: {}'.format(global_explanation.get_feature_importance_dict()))"
      ],
      "outputs": [
        {
          "output_type": "stream",
          "name": "stdout",
          "text": [
            "global importance rank: {'fare': 0.026931014185821292, 'age': 0.026931014185816903, 'sex': 1.1112543378382588e-14, 'pclass': 5.754780545608044e-15, 'embarked': 5.061392803096062e-15}\n"
          ]
        }
      ],
      "execution_count": 21,
      "metadata": {
        "collapsed": true,
        "jupyter": {
          "source_hidden": false,
          "outputs_hidden": false
        },
        "nteract": {
          "transient": {
            "deleting": false
          }
        },
        "gather": {
          "logged": 1630218274665
        }
      }
    },
    {
      "cell_type": "code",
      "source": [
        "# feature shap values for all features and all data points in the training data\r\n",
        "print('local importance values: {}'.format(global_explanation.local_importance_values))"
      ],
      "outputs": [
        {
          "output_type": "stream",
          "name": "stdout",
          "text": [
            "local importance values: [[[4.271188043403938e-15, 8.647979302384874e-15, 5.628356667119459e-15, 0.008125449913578246, 0.00812544991358028], [-7.182743129076331e-15, 8.647979302384874e-15, 5.628356667119459e-15, 0.007997430689910195, 0.007997430689913989], [4.271188043403938e-15, 8.647979302384874e-15, 5.628356667119459e-15, 0.008119723538939944, 0.008119723538942473], [4.271188043403938e-15, 8.647979302384874e-15, 5.628356667119459e-15, 0.008322816970244762, 0.008322816970251928], [-5.550700513548274e-15, 8.647979302384874e-15, 5.628356667119459e-15, 0.008216042882279744, 0.008216042882283815], [4.271188043403938e-15, 8.647979302384874e-15, -7.250073239721703e-15, 0.003393122314695679, 0.0033931223146928032], [4.271188043403938e-15, 8.647979302384874e-15, 5.628356667119459e-15, 0.00820494726653635, 0.008204947266540292], [4.271188043403938e-15, 8.647979302384874e-15, -4.284534164796876e-15, 0.007778053736586524, 0.007778053736588498], [-5.550700513548274e-15, 8.647979302384874e-15, 5.628356667119459e-15, 0.00808811748758874, 0.008088117487590774], [4.271188043403938e-15, -1.5374185426461997e-14, -7.250073239721703e-15, -0.0023024485110662365, -0.002302448511070627], [4.271188043403938e-15, 8.647979302384874e-15, 5.628356667119459e-15, 0.0048157109879072985, 0.00481571098790421], [-7.182743129076331e-15, 8.647979302384874e-15, 5.628356667119459e-15, 0.005863124079258037, 0.0058631240792571], [-7.182743129076331e-15, -1.5374185426461997e-14, 5.628356667119459e-15, 0.008255152602487199, 0.008255152602492877], [4.271188043403938e-15, 8.647979302384874e-15, 5.628356667119459e-15, 0.008205948089012824, 0.008205948089016772], [4.271188043403938e-15, 8.647979302384874e-15, 5.628356667119459e-15, 0.008105676932245771, 0.008105676932248097], [-5.550700513548274e-15, -1.5374185426461997e-14, 5.628356667119459e-15, 0.008230876736001603, 0.008230876736005976], [-7.182743129076331e-15, 8.647979302384874e-15, 5.628356667119459e-15, 0.008294636345603528, 0.008294636345609396], [4.271188043403938e-15, -1.5374185426461997e-14, 5.628356667119459e-15, 0.008196462182064154, 0.008196462182067906], [-7.182743129076331e-15, -1.5374185426461997e-14, -7.250073239721703e-15, -0.18455532786740067, -0.18455532786742176], [4.271188043403938e-15, 8.647979302384874e-15, 5.628356667119459e-15, 0.007349056048600218, 0.007349056048602079], [4.271188043403938e-15, -1.5374185426461997e-14, 5.628356667119459e-15, 0.008178651019775723, 0.008178651019779989], [4.271188043403938e-15, 8.647979302384874e-15, -7.250073239721703e-15, 0.008246641670661926, 0.008246641670664684], [4.271188043403938e-15, 8.647979302384874e-15, 5.628356667119459e-15, 0.008246712347212963, 0.008246712347217727], [4.271188043403938e-15, 8.647979302384874e-15, -7.250073239721703e-15, 0.005406738466429228, 0.005406738466428417], [-7.182743129076331e-15, 8.647979302384874e-15, 5.628356667119459e-15, 0.008253435254513755, 0.00825343525451841], [-7.182743129076331e-15, -1.5374185426461997e-14, 5.628356667119459e-15, 0.008275750972621409, 0.008275750972627505], [4.271188043403938e-15, 8.647979302384874e-15, -4.284534164796876e-15, 0.007206894516801815, 0.007206894516801155], [4.271188043403938e-15, -1.5374185426461997e-14, -4.284534164796876e-15, 0.0020236834162860357, 0.0020236834162826473], [-5.550700513548274e-15, -1.5374185426461997e-14, 5.628356667119459e-15, 0.008221091597464517, 0.008221091597468689], [-7.182743129076331e-15, -1.5374185426461997e-14, -7.250073239721703e-15, -0.24199337032950405, -0.2419933703295274], [-7.182743129076331e-15, 8.647979302384874e-15, -4.284534164796876e-15, 0.007834864567401241, 0.007834864567403456], [4.271188043403938e-15, 8.647979302384874e-15, -4.284534164796876e-15, 0.008340687597450661, 0.008340687597458556], [-5.550700513548274e-15, -1.5374185426461997e-14, 5.628356667119459e-15, 0.006300497233576972, 0.0063004972335770175], [4.271188043403938e-15, -1.5374185426461997e-14, -7.250073239721703e-15, -0.020314594888489863, -0.02031459488849829], [4.271188043403938e-15, 8.647979302384874e-15, -4.284534164796876e-15, 0.0029292529724086677, 0.002929252972404486], [4.271188043403938e-15, 8.647979302384874e-15, 5.628356667119459e-15, 0.008095750299237769, 0.00809575029924087], [-5.550700513548274e-15, -1.5374185426461997e-14, -7.250073239721703e-15, -0.030096423831335112, -0.030096423831345795], [4.271188043403938e-15, 8.647979302384874e-15, -4.284534164796876e-15, 0.007581809291600426, 0.007581809291601387], [-7.182743129076331e-15, -1.5374185426461997e-14, -7.250073239721703e-15, -0.02811812291572127, -0.02811812291573134], [-7.182743129076331e-15, 8.647979302384874e-15, -7.250073239721703e-15, 0.0050780385355039676, 0.005078038535502943], [4.271188043403938e-15, -1.5374185426461997e-14, -4.284534164796876e-15, 0.007741148065390106, 0.0077411480653918775], [4.271188043403938e-15, 8.647979302384874e-15, 5.628356667119459e-15, 0.008259922080988583, 0.008259922080993722], [4.271188043403938e-15, -1.5374185426461997e-14, -4.284534164796876e-15, 0.007307652863903874, 0.007307652863903619], [4.271188043403938e-15, 8.647979302384874e-15, 5.628356667119459e-15, 0.008165179187886135, 0.008165179187889766], [4.271188043403938e-15, 8.647979302384874e-15, 5.628356667119459e-15, 0.008265631512191254, 0.008265631512196827], [4.271188043403938e-15, 8.647979302384874e-15, 5.628356667119459e-15, 0.007904540593756523, 0.007904540593756067], [4.271188043403938e-15, 8.647979302384874e-15, 5.628356667119459e-15, 0.008010581425150888, 0.008010581425153077], [4.271188043403938e-15, -1.5374185426461997e-14, 5.628356667119459e-15, 0.008268233193203888, 0.00826823319320923], [4.271188043403938e-15, -1.5374185426461997e-14, -4.284534164796876e-15, 0.00806241751814186, 0.008062417518145015], [4.271188043403938e-15, -1.5374185426461997e-14, 5.628356667119459e-15, 0.008240245485428744, 0.00824024548543332], [-7.182743129076331e-15, -1.5374185426461997e-14, -7.250073239721703e-15, -0.09706811832678841, -0.09706811832680652], [4.271188043403938e-15, 8.647979302384874e-15, 5.628356667119459e-15, 0.007844815593268302, 0.00784481559326777], [4.271188043403938e-15, 8.647979302384874e-15, -7.250073239721703e-15, -0.0003781008001058606, -0.000378100800110741], [-7.182743129076331e-15, -1.5374185426461997e-14, -7.250073239721703e-15, -0.0898421694787521, -0.08984216947876725], [4.271188043403938e-15, 8.647979302384874e-15, 5.628356667119459e-15, 0.008253930423348687, 0.008253930423353642], [4.271188043403938e-15, 8.647979302384874e-15, -4.284534164796876e-15, 0.008203052122231647, 0.008203052122236421], [4.271188043403938e-15, 8.647979302384874e-15, -7.250073239721703e-15, -0.9737175852827572, -0.9737175852827991], [-7.182743129076331e-15, 8.647979302384874e-15, -7.250073239721703e-15, -1.1708093183314487, -1.170809318331522], [4.271188043403938e-15, 8.647979302384874e-15, 5.628356667119459e-15, 0.008146520141958324, 0.00814652014196126], [4.271188043403938e-15, -1.5374185426461997e-14, 5.628356667119459e-15, 0.007839423980883019, 0.007839423980885985], [4.271188043403938e-15, 8.647979302384874e-15, -4.284534164796876e-15, 0.008098508604642122, 0.008098508604645938], [-7.182743129076331e-15, 8.647979302384874e-15, 5.628356667119459e-15, 0.007513925919042512, 0.0075139259190446376], [-7.182743129076331e-15, -1.5374185426461997e-14, -7.250073239721703e-15, -0.07430151815329011, -0.07430151815330738], [4.271188043403938e-15, 8.647979302384874e-15, -4.284534164796876e-15, 0.008203052122231647, 0.008203052122236421], [4.271188043403938e-15, -1.5374185426461997e-14, -7.250073239721703e-15, -0.08220205992133033, -0.08220205992135092], [-7.182743129076331e-15, -1.5374185426461997e-14, -7.250073239721703e-15, -0.3081947477745102, -0.30819474777454237], [-7.182743129076331e-15, -1.5374185426461997e-14, -7.250073239721703e-15, -0.06429015650075276, -0.06429015650076607], [4.271188043403938e-15, 8.647979302384874e-15, -4.284534164796876e-15, 0.006468430930557506, 0.006468430930551952], [4.271188043403938e-15, 8.647979302384874e-15, 5.628356667119459e-15, 0.008211567228102503, 0.008211567228107328], [4.271188043403938e-15, 8.647979302384874e-15, 5.628356667119459e-15, 0.008287369399542525, 0.008287369399548314], [-7.182743129076331e-15, 8.647979302384874e-15, -7.250073239721703e-15, 0.003690422111696787, 0.0036904221116946584], [4.271188043403938e-15, 8.647979302384874e-15, -4.284534164796876e-15, 0.008192484249783732, 0.008192484249788561], [4.271188043403938e-15, 8.647979302384874e-15, 5.628356667119459e-15, 0.008262998911408633, 0.008262998911413794], [-5.550700513548274e-15, 8.647979302384874e-15, 5.628356667119459e-15, 0.008165920068129946, 0.008165920068133105], [4.271188043403938e-15, 8.647979302384874e-15, -4.284534164796876e-15, 0.008330043984469087, 0.008330043984475876], [4.271188043403938e-15, 8.647979302384874e-15, 5.628356667119459e-15, 0.008211627775613102, 0.00821162777561723], [4.271188043403938e-15, 8.647979302384874e-15, 5.628356667119459e-15, 0.008205948089012824, 0.008205948089016772], [4.271188043403938e-15, -1.5374185426461997e-14, -4.284534164796876e-15, 0.006965238087816396, 0.006965238087817383], [4.271188043403938e-15, 8.647979302384874e-15, -4.284534164796876e-15, 0.006632806244418826, 0.006632806244419678], [-7.182743129076331e-15, -1.5374185426461997e-14, -4.284534164796876e-15, 0.0054405742008704775, 0.005440574200870027], [4.271188043403938e-15, 8.647979302384874e-15, 5.628356667119459e-15, 0.008217845231780891, 0.008217845231785046], [4.271188043403938e-15, 8.647979302384874e-15, 5.628356667119459e-15, 0.008073483552251449, 0.008073483552254316], [4.271188043403938e-15, 8.647979302384874e-15, 5.628356667119459e-15, 0.005266123165019651, 0.005266123165018347], [4.271188043403938e-15, 8.647979302384874e-15, 5.628356667119459e-15, -0.0029881611354299, -0.002988161135434593], [4.271188043403938e-15, -1.5374185426461997e-14, 5.628356667119459e-15, 0.007947756453606696, 0.007947756453609556], [4.271188043403938e-15, 8.647979302384874e-15, -4.284534164796876e-15, 0.008341011533754727, 0.00834101153375762], [4.271188043403938e-15, 8.647979302384874e-15, 5.628356667119459e-15, 0.008276095055799263, 0.008276095055804808], [4.271188043403938e-15, -1.5374185426461997e-14, -4.284534164796876e-15, -9.457146282029641e-05, -9.457146282463262e-05], [-7.182743129076331e-15, -1.5374185426461997e-14, -7.250073239721703e-15, -0.027322684076752646, -0.027322684076762225], [-7.182743129076331e-15, -1.5374185426461997e-14, -7.250073239721703e-15, -0.09198891566602854, -0.09198891566604644], [4.271188043403938e-15, -1.5374185426461997e-14, -7.250073239721703e-15, -0.0764547888846427, -0.07645478888466309], [4.271188043403938e-15, 8.647979302384874e-15, -4.284534164796876e-15, -0.010639051026615946, -0.010639051026623709], [4.271188043403938e-15, -1.5374185426461997e-14, 5.628356667119459e-15, 0.00815545770389317, 0.008155457703897336], [4.271188043403938e-15, 8.647979302384874e-15, 5.628356667119459e-15, 0.008189165306123397, 0.008189165306127118], [4.271188043403938e-15, 8.647979302384874e-15, -7.250073239721703e-15, -0.07727967817783432, -0.07727967817784887], [-5.550700513548274e-15, 8.647979302384874e-15, 5.628356667119459e-15, 0.005242244437670926, 0.005242244437666452], [4.271188043403938e-15, 8.647979302384874e-15, -7.250073239721703e-15, -0.0014131730046089506, -0.0014131730046144384], [4.271188043403938e-15, -1.5374185426461997e-14, -7.250073239721703e-15, 0.004297921690953029, 0.0042979216909506505], [-7.182743129076331e-15, 8.647979302384874e-15, -7.250073239721703e-15, -0.02562532699104008, -0.025625326991049347], [4.271188043403938e-15, -1.5374185426461997e-14, 5.628356667119459e-15, 0.007674203779377787, 0.00767420377937887], [-7.182743129076331e-15, 8.647979302384874e-15, -7.250073239721703e-15, -0.03766684121728622, -0.037666841217297124], [4.271188043403938e-15, 8.647979302384874e-15, 5.628356667119459e-15, 0.0008619875811543814, 0.0008619875811509038], [-5.550700513548274e-15, -1.5374185426461997e-14, 5.628356667119459e-15, 0.00811428784068332, 0.008114287840685668], [-5.550700513548274e-15, -1.5374185426461997e-14, 5.628356667119459e-15, 0.008177787152216745, 0.008177787152220107], [4.271188043403938e-15, 8.647979302384874e-15, 5.628356667119459e-15, 0.008233334340539127, 0.0082333343405432], [4.271188043403938e-15, 8.647979302384874e-15, 5.628356667119459e-15, 0.0081955405129437, 0.008195540512947448], [-5.550700513548274e-15, -1.5374185426461997e-14, 5.628356667119459e-15, 0.008055993387477606, 0.008055993387479145], [4.271188043403938e-15, 8.647979302384874e-15, 5.628356667119459e-15, 0.008077918798802182, 0.008077918798806363], [-5.550700513548274e-15, -1.5374185426461997e-14, 5.628356667119459e-15, 0.008164598183056235, 0.008164598183059391], [4.271188043403938e-15, -1.5374185426461997e-14, -7.250073239721703e-15, 0.005174362567856244, 0.005174362567854891], [-7.182743129076331e-15, 8.647979302384874e-15, 5.628356667119459e-15, 0.00802146160082765, 0.008021461600831432], [4.271188043403938e-15, 8.647979302384874e-15, -4.284534164796876e-15, 0.006871991210130196, 0.006871991210126263], [-7.182743129076331e-15, 8.647979302384874e-15, 5.628356667119459e-15, 0.007966414623057274, 0.00796641462305717], [-7.182743129076331e-15, -1.5374185426461997e-14, -4.284534164796876e-15, 0.008196758193691119, 0.008196758193696075], [4.271188043403938e-15, -1.5374185426461997e-14, -7.250073239721703e-15, -0.0251067230458236, -0.02510672304583315], [4.271188043403938e-15, 8.647979302384874e-15, 5.628356667119459e-15, 0.008245379209117392, 0.008245379209121998], [4.271188043403938e-15, 8.647979302384874e-15, 5.628356667119459e-15, 0.008264443212473552, 0.008264443212478507], [4.271188043403938e-15, 8.647979302384874e-15, -7.250073239721703e-15, 0.0009117087949650835, 0.0009117087949610133], [4.271188043403938e-15, 8.647979302384874e-15, 5.628356667119459e-15, 0.008157923431462726, 0.008157923431465857], [4.271188043403938e-15, -1.5374185426461997e-14, -4.284534164796876e-15, 0.007722255876454247, 0.0077222558764559164], [4.271188043403938e-15, 8.647979302384874e-15, 5.628356667119459e-15, 0.008199362692104804, 0.008199362692108567], [4.271188043403938e-15, 8.647979302384874e-15, -7.250073239721703e-15, 0.0027149464803188908, 0.0027149464803152864], [-7.182743129076331e-15, 8.647979302384874e-15, -7.250073239721703e-15, 0.0011083025014291953, 0.0011083025014261253], [-5.550700513548274e-15, -1.5374185426461997e-14, 5.628356667119459e-15, 0.007861331536286657, 0.007861331536289677], [4.271188043403938e-15, 8.647979302384874e-15, 5.628356667119459e-15, 0.008236418415765674, 0.008236418415770228], [4.271188043403938e-15, 8.647979302384874e-15, 5.628356667119459e-15, 0.00027561436045229305, 0.00027561436044861294], [4.271188043403938e-15, 8.647979302384874e-15, -4.284534164796876e-15, 0.002273849631639919, 0.0022738496316355348], [4.271188043403938e-15, -1.5374185426461997e-14, 5.628356667119459e-15, 0.008038436106389038, 0.00803843610639037], [-7.182743129076331e-15, -1.5374185426461997e-14, -7.250073239721703e-15, -0.049074160904331345, -0.04907416090434332], [4.271188043403938e-15, -1.5374185426461997e-14, 5.628356667119459e-15, 0.008259922080988583, 0.008259922080993722], [-5.550700513548274e-15, -1.5374185426461997e-14, 5.628356667119459e-15, 0.008290731873148549, 0.008290731873154503], [4.271188043403938e-15, -1.5374185426461997e-14, -4.284534164796876e-15, 0.008156046536878563, 0.008156046536882731], [4.271188043403938e-15, 8.647979302384874e-15, -7.250073239721703e-15, 0.0019857225892989648, 0.001985722589294874], [-7.182743129076331e-15, 8.647979302384874e-15, -7.250073239721703e-15, -0.06993321910638968, -0.06993321910640342], [-7.182743129076331e-15, 8.647979302384874e-15, -7.250073239721703e-15, -0.04791702699957003, -0.047917026999582224], [4.271188043403938e-15, -1.5374185426461997e-14, -7.250073239721703e-15, -0.6683473074962517, -0.6683473074962872], [4.271188043403938e-15, 8.647979302384874e-15, 5.628356667119459e-15, 0.008267780451720504, 0.008267780451725703], [4.271188043403938e-15, 8.647979302384874e-15, 5.628356667119459e-15, 0.008260662620766286, 0.00826066262077114], [4.271188043403938e-15, 8.647979302384874e-15, 5.628356667119459e-15, 0.008262998911408633, 0.008262998911413794], [4.271188043403938e-15, -1.5374185426461997e-14, 5.628356667119459e-15, 0.0072043155113316396, 0.007204315511333284], [-7.182743129076331e-15, 8.647979302384874e-15, 5.628356667119459e-15, 0.008105676932245771, 0.008105676932248097], [4.271188043403938e-15, 8.647979302384874e-15, -7.250073239721703e-15, -0.0030086546624550287, -0.003008654662460085], [4.271188043403938e-15, -1.5374185426461997e-14, 5.628356667119459e-15, 0.008087709856016728, 0.00808770985602063], [-7.182743129076331e-15, -1.5374185426461997e-14, -7.250073239721703e-15, 0.0018963043171081342, 0.001896304317104652], [4.271188043403938e-15, 8.647979302384874e-15, -4.284534164796876e-15, 0.008341011533551441, 0.008341011533554538], [4.271188043403938e-15, -1.5374185426461997e-14, -4.284534164796876e-15, 0.007813787798882539, 0.007813787798884716], [4.271188043403938e-15, 8.647979302384874e-15, 5.628356667119459e-15, 0.007878138123718107, 0.007878138123717616], [4.271188043403938e-15, 8.647979302384874e-15, 5.628356667119459e-15, 0.008233334340539127, 0.0082333343405432], [-5.550700513548274e-15, -1.5374185426461997e-14, 5.628356667119459e-15, 0.008289841249880463, 0.008289841249885998], [4.271188043403938e-15, 8.647979302384874e-15, 5.628356667119459e-15, 0.008098783578814354, 0.008098783578816496], [4.271188043403938e-15, -1.5374185426461997e-14, 5.628356667119459e-15, 0.008016865552458122, 0.008016865552461784], [4.271188043403938e-15, -1.5374185426461997e-14, 5.628356667119459e-15, 0.00817726019694865, 0.008177260196952169], [4.271188043403938e-15, 8.647979302384874e-15, -7.250073239721703e-15, 0.006425384494898348, 0.006425384494898915], [4.271188043403938e-15, 8.647979302384874e-15, 5.628356667119459e-15, 0.008218074860418433, 0.008218074860422113], [4.271188043403938e-15, 8.647979302384874e-15, -4.284534164796876e-15, 0.006632806246962424, 0.00663280624696007], [-7.182743129076331e-15, 8.647979302384874e-15, -7.250073239721703e-15, 0.0030112317885208633, 0.0030112317885183392], [4.271188043403938e-15, -1.5374185426461997e-14, -4.284534164796876e-15, 0.00821719201288099, 0.008217192012886404], [4.271188043403938e-15, 8.647979302384874e-15, 5.628356667119459e-15, 0.005720988354638237, 0.005720988354637541], [-5.550700513548274e-15, 8.647979302384874e-15, 5.628356667119459e-15, 0.008240245485428744, 0.00824024548543332], [4.271188043403938e-15, 8.647979302384874e-15, 5.628356667119459e-15, 0.008194926906515233, 0.008194926906518978], [4.271188043403938e-15, 8.647979302384874e-15, -7.250073239721703e-15, 0.008341011535584296, 0.008341011535585365], [4.271188043403938e-15, -1.5374185426461997e-14, 5.628356667119459e-15, 0.008236487768858823, 0.008236487768863227], [4.271188043403938e-15, 8.647979302384874e-15, 5.628356667119459e-15, 0.008341011531518588, 0.00834101153152371], [4.271188043403938e-15, 8.647979302384874e-15, 5.628356667119459e-15, 0.008241952107698182, 0.008241952107702916], [-7.182743129076331e-15, -1.5374185426461997e-14, -4.284534164796876e-15, 0.008335018923318657, 0.00833501892332246], [4.271188043403938e-15, -1.5374185426461997e-14, 5.628356667119459e-15, 0.008157923431462726, 0.008157923431465857], [4.271188043403938e-15, 8.647979302384874e-15, 5.628356667119459e-15, 0.008245004604166637, 0.00824500460417139], [-5.550700513548274e-15, -1.5374185426461997e-14, 5.628356667119459e-15, 0.008112088431261653, 0.008112088431263995], [4.271188043403938e-15, 8.647979302384874e-15, 5.628356667119459e-15, 0.00804520816650151, 0.008045208166502331], [4.271188043403938e-15, -1.5374185426461997e-14, -4.284534164796876e-15, 0.007813787798882539, 0.007813787798884716], [-7.182743129076331e-15, -1.5374185426461997e-14, -7.250073239721703e-15, 0.0010065298257722897, 0.0010065298257676608], [4.271188043403938e-15, -1.5374185426461997e-14, -7.250073239721703e-15, -0.1184922371468624, -0.11849223714689595], [4.271188043403938e-15, -1.5374185426461997e-14, -7.250073239721703e-15, -0.07359896836811829, -0.07359896836813253], [4.271188043403938e-15, -1.5374185426461997e-14, 5.628356667119459e-15, 0.008089846812005023, 0.008089846812007638], [4.271188043403938e-15, -1.5374185426461997e-14, -4.284534164796876e-15, 0.008205118903617796, 0.00820511890362186], [-7.182743129076331e-15, 8.647979302384874e-15, -7.250073239721703e-15, -0.07205581389473398, -0.07205581389474794], [-7.182743129076331e-15, -1.5374185426461997e-14, -7.250073239721703e-15, -0.06683048602394184, -0.06683048602395536], [4.271188043403938e-15, 8.647979302384874e-15, 5.628356667119459e-15, 0.008286764013321318, 0.008286764013326044], [-7.182743129076331e-15, -1.5374185426461997e-14, 5.628356667119459e-15, 0.008143964827230283, 0.008143964827232708], [4.271188043403938e-15, 8.647979302384874e-15, 5.628356667119459e-15, 0.007935579631162924, 0.007935579631164405], [4.271188043403938e-15, -1.5374185426461997e-14, -4.284534164796876e-15, 0.006798893913761858, 0.006798893913762751], [-7.182743129076331e-15, 8.647979302384874e-15, -7.250073239721703e-15, 0.007558269523976146, 0.007558269523978676], [-7.182743129076331e-15, 8.647979302384874e-15, 5.628356667119459e-15, 0.008205948089012824, 0.008205948089016772], [-7.182743129076331e-15, -1.5374185426461997e-14, -7.250073239721703e-15, -0.054183587460094315, -0.054183587460108214], [4.271188043403938e-15, 8.647979302384874e-15, 5.628356667119459e-15, 0.00806094389142333, 0.00806094389142505], [4.271188043403938e-15, -1.5374185426461997e-14, -7.250073239721703e-15, 0.003831477112058928, 0.0038314771120571125], [4.271188043403938e-15, 8.647979302384874e-15, 5.628356667119459e-15, 0.008187438678703852, 0.00818743867870741], [-7.182743129076331e-15, 8.647979302384874e-15, 5.628356667119459e-15, 0.007409637631310138, 0.00740963763131117], [-7.182743129076331e-15, -1.5374185426461997e-14, 5.628356667119459e-15, 0.008030929832286872, 0.008030929832290869], [4.271188043403938e-15, -1.5374185426461997e-14, 5.628356667119459e-15, 0.005960481659086869, 0.005960481659085746], [-7.182743129076331e-15, 8.647979302384874e-15, 5.628356667119459e-15, 0.008340986586749182, 0.008340986586758324], [4.271188043403938e-15, 8.647979302384874e-15, 5.628356667119459e-15, 0.008297840386940048, 0.008297840386945275], [4.271188043403938e-15, 8.647979302384874e-15, 5.628356667119459e-15, 0.006962179114419558, 0.0069621791144207235], [4.271188043403938e-15, 8.647979302384874e-15, -4.284534164796876e-15, 0.007778053736586524, 0.007778053736588498], [-7.182743129076331e-15, 8.647979302384874e-15, 5.628356667119459e-15, 0.00825333340606976, 0.008253333406074412], [-7.182743129076331e-15, 8.647979302384874e-15, 5.628356667119459e-15, 0.00825333340606976, 0.008253333406074412], [4.271188043403938e-15, 8.647979302384874e-15, 5.628356667119459e-15, 0.008065846337233172, 0.00806584633723507], [4.271188043403938e-15, -1.5374185426461997e-14, 5.628356667119459e-15, 0.0048157109879072985, 0.00481571098790421], [4.271188043403938e-15, -1.5374185426461997e-14, -4.284534164796876e-15, 0.001508189402532466, 0.0015081894025295631], [4.271188043403938e-15, -1.5374185426461997e-14, -7.250073239721703e-15, -0.02369313077360527, -0.023693130773614672], [-7.182743129076331e-15, 8.647979302384874e-15, -4.284534164796876e-15, 0.003779683430411552, 0.0037796834304099584], [4.271188043403938e-15, 8.647979302384874e-15, 5.628356667119459e-15, 0.0072617313481385375, 0.0072617313481397675], [4.271188043403938e-15, 8.647979302384874e-15, -7.250073239721703e-15, 0.005516438878243211, 0.005516438878242563], [4.271188043403938e-15, 8.647979302384874e-15, -4.284534164796876e-15, -0.026821898377771193, -0.026821898377780592], [4.271188043403938e-15, -1.5374185426461997e-14, 5.628356667119459e-15, 0.007843109211812232, 0.007843109211812907], [4.271188043403938e-15, 8.647979302384874e-15, -4.284534164796876e-15, 0.008341011532128444, 0.008341011532132958], [4.271188043403938e-15, -1.5374185426461997e-14, -4.284534164796876e-15, 0.007385613370599846, 0.007385613370598343], [-5.550700513548274e-15, 8.647979302384874e-15, 5.628356667119459e-15, 0.008329250205390186, 0.008329250205395636], [-7.182743129076331e-15, 8.647979302384874e-15, -7.250073239721703e-15, -0.0019447108214210509, -0.0019447108214270274], [4.271188043403938e-15, -1.5374185426461997e-14, 5.628356667119459e-15, 0.00832744967468726, 0.008327449674692391], [4.271188043403938e-15, 8.647979302384874e-15, 5.628356667119459e-15, 0.007886146546795085, 0.007886146546794958], [4.271188043403938e-15, -1.5374185426461997e-14, -4.284534164796876e-15, 0.006930075961124307, 0.006930075961125725], [4.271188043403938e-15, 8.647979302384874e-15, -4.284534164796876e-15, 0.008041398757922286, 0.008041398757925238], [4.271188043403938e-15, 8.647979302384874e-15, -7.250073239721703e-15, 0.0023013339185720214, 0.002301333918562145], [4.271188043403938e-15, 8.647979302384874e-15, -4.284534164796876e-15, 0.008151211052203452, 0.008151211052208058], [4.271188043403938e-15, -1.5374185426461997e-14, -4.284534164796876e-15, 0.007099376023080586, 0.007099376023077665], [-7.182743129076331e-15, -1.5374185426461997e-14, -4.284534164796876e-15, 0.008287077857602161, 0.008287077857605558], [4.271188043403938e-15, 8.647979302384874e-15, -7.250073239721703e-15, -0.05634843499846857, -0.05634843499848351], [4.271188043403938e-15, 8.647979302384874e-15, 5.628356667119459e-15, 0.00833413717652672, 0.008334137176534438], [4.271188043403938e-15, 8.647979302384874e-15, 5.628356667119459e-15, 0.008198168977771569, 0.008198168977775006], [4.271188043403938e-15, -1.5374185426461997e-14, -7.250073239721703e-15, -0.0031407544250083956, -0.0031407544250130278], [4.271188043403938e-15, 8.647979302384874e-15, -7.250073239721703e-15, 0.005213007067744624, 0.005213007067743594], [4.271188043403938e-15, -1.5374185426461997e-14, -4.284534164796876e-15, 0.008188147913363827, 0.00818814791336849], [-7.182743129076331e-15, 8.647979302384874e-15, 5.628356667119459e-15, 0.00832635519567354, 0.008326355195680828], [-7.182743129076331e-15, 8.647979302384874e-15, 5.628356667119459e-15, 0.008172493754301766, 0.0081724937543047], [-7.182743129076331e-15, 8.647979302384874e-15, -4.284534164796876e-15, 0.007781148673097939, 0.00778114867310019], [-5.550700513548274e-15, 8.647979302384874e-15, 5.628356667119459e-15, 0.008141798061820995, 0.008141798061823751], [4.271188043403938e-15, 8.647979302384874e-15, 5.628356667119459e-15, 0.00833954415468402, 0.008339544154690943], [4.271188043403938e-15, 8.647979302384874e-15, -7.250073239721703e-15, 0.004916184498276693, 0.004916184498275931], [4.271188043403938e-15, 8.647979302384874e-15, 5.628356667119459e-15, 0.008145490796192997, 0.008145490796196706], [4.271188043403938e-15, 8.647979302384874e-15, 5.628356667119459e-15, 0.0028771545058845363, 0.0028771545058819546], [-5.550700513548274e-15, -1.5374185426461997e-14, 5.628356667119459e-15, 0.008287943259367225, 0.008287943259373019], [4.271188043403938e-15, 8.647979302384874e-15, 5.628356667119459e-15, 0.008132054474080079, 0.008132054474082889], [4.271188043403938e-15, 8.647979302384874e-15, 5.628356667119459e-15, 0.008183473520560987, 0.008183473520564529], [4.271188043403938e-15, 8.647979302384874e-15, -4.284534164796876e-15, 0.005514561150580209, 0.005514561150578563], [4.271188043403938e-15, -1.5374185426461997e-14, -4.284534164796876e-15, 0.00812953629671225, 0.008129536296716653], [-7.182743129076331e-15, 8.647979302384874e-15, 5.628356667119459e-15, 0.008178163029090304, 0.008178163029093338], [4.271188043403938e-15, 8.647979302384874e-15, -4.284534164796876e-15, 0.006133659324674231, 0.0061336593246735975], [-7.182743129076331e-15, 8.647979302384874e-15, 5.628356667119459e-15, 0.008188661685692865, 0.008188661685696102], [4.271188043403938e-15, 8.647979302384874e-15, -4.284534164796876e-15, 0.006141949845875664, 0.0061419498458718915], [4.271188043403938e-15, 8.647979302384874e-15, 5.628356667119459e-15, 0.008186102937121147, 0.008186102937124537], [4.271188043403938e-15, -1.5374185426461997e-14, 5.628356667119459e-15, 0.00796581614593493, 0.007965816145934555], [-5.550700513548274e-15, 8.647979302384874e-15, 5.628356667119459e-15, 0.008240245485428744, 0.00824024548543332], [-7.182743129076331e-15, 8.647979302384874e-15, 5.628356667119459e-15, 0.008227922314219155, 0.008227922314223202], [4.271188043403938e-15, -1.5374185426461997e-14, 5.628356667119459e-15, 0.007985174858940654, 0.007985174858944547], [-5.550700513548274e-15, 8.647979302384874e-15, 5.628356667119459e-15, 0.007550405321899961, 0.007550405321896627], [4.271188043403938e-15, 8.647979302384874e-15, -7.250073239721703e-15, -0.00015274499948397558, -0.00015274499948757415], [4.271188043403938e-15, 8.647979302384874e-15, 5.628356667119459e-15, 0.008255842735952042, 0.008255842735956712], [4.271188043403938e-15, 8.647979302384874e-15, -4.284534164796876e-15, 0.007945007959062594, 0.007945007959065581], [4.271188043403938e-15, 8.647979302384874e-15, 5.628356667119459e-15, 0.00813964384497955, 0.0081396438449823], [4.271188043403938e-15, 8.647979302384874e-15, -7.250073239721703e-15, 0.008341011536397437, 0.008341011536397696], [-5.550700513548274e-15, 8.647979302384874e-15, 5.628356667119459e-15, 0.007306232932196921, 0.007306232932191675], [4.271188043403938e-15, -1.5374185426461997e-14, 5.628356667119459e-15, 0.008225846747531912, 0.008225846747536259], [-7.182743129076331e-15, -1.5374185426461997e-14, -7.250073239721703e-15, -0.024729850158511802, -0.024729850158521288], [4.271188043403938e-15, 8.647979302384874e-15, -4.284534164796876e-15, 0.008102162082108778, 0.008102162082112337], [4.271188043403938e-15, 8.647979302384874e-15, 5.628356667119459e-15, 0.008341011533754727, 0.00834101153375762], [-7.182743129076331e-15, 8.647979302384874e-15, -7.250073239721703e-15, -0.0020632772540187024, -0.0020632772540231767], [4.271188043403938e-15, -1.5374185426461997e-14, -4.284534164796876e-15, 0.007906138146810194, 0.007906138146812828], [-7.182743129076331e-15, 8.647979302384874e-15, -7.250073239721703e-15, 0.0009801507153652026, 0.0009801507153613129], [4.271188043403938e-15, -1.5374185426461997e-14, 5.628356667119459e-15, 0.00825155194625594, 0.008251551946260732], [-7.182743129076331e-15, 8.647979302384874e-15, -7.250073239721703e-15, -0.3792973112697269, -0.37929731126975824], [-7.182743129076331e-15, -1.5374185426461997e-14, -7.250073239721703e-15, 0.003448042522935696, 0.0034480425229336626]], [[-4.271188043403938e-15, -8.647979302384874e-15, -5.628356667119459e-15, -0.008125449913578246, -0.00812544991358028], [7.182743129076331e-15, -8.647979302384874e-15, -5.628356667119459e-15, -0.007997430689910195, -0.007997430689913989], [-4.271188043403938e-15, -8.647979302384874e-15, -5.628356667119459e-15, -0.008119723538939944, -0.008119723538942473], [-4.271188043403938e-15, -8.647979302384874e-15, -5.628356667119459e-15, -0.008322816970244762, -0.008322816970251928], [5.550700513548274e-15, -8.647979302384874e-15, -5.628356667119459e-15, -0.008216042882279744, -0.008216042882283815], [-4.271188043403938e-15, -8.647979302384874e-15, 7.250073239721703e-15, -0.003393122314695679, -0.0033931223146928032], [-4.271188043403938e-15, -8.647979302384874e-15, -5.628356667119459e-15, -0.00820494726653635, -0.008204947266540292], [-4.271188043403938e-15, -8.647979302384874e-15, 4.284534164796876e-15, -0.007778053736586524, -0.007778053736588498], [5.550700513548274e-15, -8.647979302384874e-15, -5.628356667119459e-15, -0.00808811748758874, -0.008088117487590774], [-4.271188043403938e-15, 1.5374185426461997e-14, 7.250073239721703e-15, 0.0023024485110662365, 0.002302448511070627], [-4.271188043403938e-15, -8.647979302384874e-15, -5.628356667119459e-15, -0.0048157109879072985, -0.00481571098790421], [7.182743129076331e-15, -8.647979302384874e-15, -5.628356667119459e-15, -0.005863124079258037, -0.0058631240792571], [7.182743129076331e-15, 1.5374185426461997e-14, -5.628356667119459e-15, -0.008255152602487199, -0.008255152602492877], [-4.271188043403938e-15, -8.647979302384874e-15, -5.628356667119459e-15, -0.008205948089012824, -0.008205948089016772], [-4.271188043403938e-15, -8.647979302384874e-15, -5.628356667119459e-15, -0.008105676932245771, -0.008105676932248097], [5.550700513548274e-15, 1.5374185426461997e-14, -5.628356667119459e-15, -0.008230876736001603, -0.008230876736005976], [7.182743129076331e-15, -8.647979302384874e-15, -5.628356667119459e-15, -0.008294636345603528, -0.008294636345609396], [-4.271188043403938e-15, 1.5374185426461997e-14, -5.628356667119459e-15, -0.008196462182064154, -0.008196462182067906], [7.182743129076331e-15, 1.5374185426461997e-14, 7.250073239721703e-15, 0.18455532786740067, 0.18455532786742176], [-4.271188043403938e-15, -8.647979302384874e-15, -5.628356667119459e-15, -0.007349056048600218, -0.007349056048602079], [-4.271188043403938e-15, 1.5374185426461997e-14, -5.628356667119459e-15, -0.008178651019775723, -0.008178651019779989], [-4.271188043403938e-15, -8.647979302384874e-15, 7.250073239721703e-15, -0.008246641670661926, -0.008246641670664684], [-4.271188043403938e-15, -8.647979302384874e-15, -5.628356667119459e-15, -0.008246712347212963, -0.008246712347217727], [-4.271188043403938e-15, -8.647979302384874e-15, 7.250073239721703e-15, -0.005406738466429228, -0.005406738466428417], [7.182743129076331e-15, -8.647979302384874e-15, -5.628356667119459e-15, -0.008253435254513755, -0.00825343525451841], [7.182743129076331e-15, 1.5374185426461997e-14, -5.628356667119459e-15, -0.008275750972621409, -0.008275750972627505], [-4.271188043403938e-15, -8.647979302384874e-15, 4.284534164796876e-15, -0.007206894516801815, -0.007206894516801155], [-4.271188043403938e-15, 1.5374185426461997e-14, 4.284534164796876e-15, -0.0020236834162860357, -0.0020236834162826473], [5.550700513548274e-15, 1.5374185426461997e-14, -5.628356667119459e-15, -0.008221091597464517, -0.008221091597468689], [7.182743129076331e-15, 1.5374185426461997e-14, 7.250073239721703e-15, 0.24199337032950405, 0.2419933703295274], [7.182743129076331e-15, -8.647979302384874e-15, 4.284534164796876e-15, -0.007834864567401241, -0.007834864567403456], [-4.271188043403938e-15, -8.647979302384874e-15, 4.284534164796876e-15, -0.008340687597450661, -0.008340687597458556], [5.550700513548274e-15, 1.5374185426461997e-14, -5.628356667119459e-15, -0.006300497233576972, -0.0063004972335770175], [-4.271188043403938e-15, 1.5374185426461997e-14, 7.250073239721703e-15, 0.020314594888489863, 0.02031459488849829], [-4.271188043403938e-15, -8.647979302384874e-15, 4.284534164796876e-15, -0.0029292529724086677, -0.002929252972404486], [-4.271188043403938e-15, -8.647979302384874e-15, -5.628356667119459e-15, -0.008095750299237769, -0.00809575029924087], [5.550700513548274e-15, 1.5374185426461997e-14, 7.250073239721703e-15, 0.030096423831335112, 0.030096423831345795], [-4.271188043403938e-15, -8.647979302384874e-15, 4.284534164796876e-15, -0.007581809291600426, -0.007581809291601387], [7.182743129076331e-15, 1.5374185426461997e-14, 7.250073239721703e-15, 0.02811812291572127, 0.02811812291573134], [7.182743129076331e-15, -8.647979302384874e-15, 7.250073239721703e-15, -0.0050780385355039676, -0.005078038535502943], [-4.271188043403938e-15, 1.5374185426461997e-14, 4.284534164796876e-15, -0.007741148065390106, -0.0077411480653918775], [-4.271188043403938e-15, -8.647979302384874e-15, -5.628356667119459e-15, -0.008259922080988583, -0.008259922080993722], [-4.271188043403938e-15, 1.5374185426461997e-14, 4.284534164796876e-15, -0.007307652863903874, -0.007307652863903619], [-4.271188043403938e-15, -8.647979302384874e-15, -5.628356667119459e-15, -0.008165179187886135, -0.008165179187889766], [-4.271188043403938e-15, -8.647979302384874e-15, -5.628356667119459e-15, -0.008265631512191254, -0.008265631512196827], [-4.271188043403938e-15, -8.647979302384874e-15, -5.628356667119459e-15, -0.007904540593756523, -0.007904540593756067], [-4.271188043403938e-15, -8.647979302384874e-15, -5.628356667119459e-15, -0.008010581425150888, -0.008010581425153077], [-4.271188043403938e-15, 1.5374185426461997e-14, -5.628356667119459e-15, -0.008268233193203888, -0.00826823319320923], [-4.271188043403938e-15, 1.5374185426461997e-14, 4.284534164796876e-15, -0.00806241751814186, -0.008062417518145015], [-4.271188043403938e-15, 1.5374185426461997e-14, -5.628356667119459e-15, -0.008240245485428744, -0.00824024548543332], [7.182743129076331e-15, 1.5374185426461997e-14, 7.250073239721703e-15, 0.09706811832678841, 0.09706811832680652], [-4.271188043403938e-15, -8.647979302384874e-15, -5.628356667119459e-15, -0.007844815593268302, -0.00784481559326777], [-4.271188043403938e-15, -8.647979302384874e-15, 7.250073239721703e-15, 0.0003781008001058606, 0.000378100800110741], [7.182743129076331e-15, 1.5374185426461997e-14, 7.250073239721703e-15, 0.0898421694787521, 0.08984216947876725], [-4.271188043403938e-15, -8.647979302384874e-15, -5.628356667119459e-15, -0.008253930423348687, -0.008253930423353642], [-4.271188043403938e-15, -8.647979302384874e-15, 4.284534164796876e-15, -0.008203052122231647, -0.008203052122236421], [-4.271188043403938e-15, -8.647979302384874e-15, 7.250073239721703e-15, 0.9737175852827572, 0.9737175852827991], [7.182743129076331e-15, -8.647979302384874e-15, 7.250073239721703e-15, 1.1708093183314487, 1.170809318331522], [-4.271188043403938e-15, -8.647979302384874e-15, -5.628356667119459e-15, -0.008146520141958324, -0.00814652014196126], [-4.271188043403938e-15, 1.5374185426461997e-14, -5.628356667119459e-15, -0.007839423980883019, -0.007839423980885985], [-4.271188043403938e-15, -8.647979302384874e-15, 4.284534164796876e-15, -0.008098508604642122, -0.008098508604645938], [7.182743129076331e-15, -8.647979302384874e-15, -5.628356667119459e-15, -0.007513925919042512, -0.0075139259190446376], [7.182743129076331e-15, 1.5374185426461997e-14, 7.250073239721703e-15, 0.07430151815329011, 0.07430151815330738], [-4.271188043403938e-15, -8.647979302384874e-15, 4.284534164796876e-15, -0.008203052122231647, -0.008203052122236421], [-4.271188043403938e-15, 1.5374185426461997e-14, 7.250073239721703e-15, 0.08220205992133033, 0.08220205992135092], [7.182743129076331e-15, 1.5374185426461997e-14, 7.250073239721703e-15, 0.3081947477745102, 0.30819474777454237], [7.182743129076331e-15, 1.5374185426461997e-14, 7.250073239721703e-15, 0.06429015650075276, 0.06429015650076607], [-4.271188043403938e-15, -8.647979302384874e-15, 4.284534164796876e-15, -0.006468430930557506, -0.006468430930551952], [-4.271188043403938e-15, -8.647979302384874e-15, -5.628356667119459e-15, -0.008211567228102503, -0.008211567228107328], [-4.271188043403938e-15, -8.647979302384874e-15, -5.628356667119459e-15, -0.008287369399542525, -0.008287369399548314], [7.182743129076331e-15, -8.647979302384874e-15, 7.250073239721703e-15, -0.003690422111696787, -0.0036904221116946584], [-4.271188043403938e-15, -8.647979302384874e-15, 4.284534164796876e-15, -0.008192484249783732, -0.008192484249788561], [-4.271188043403938e-15, -8.647979302384874e-15, -5.628356667119459e-15, -0.008262998911408633, -0.008262998911413794], [5.550700513548274e-15, -8.647979302384874e-15, -5.628356667119459e-15, -0.008165920068129946, -0.008165920068133105], [-4.271188043403938e-15, -8.647979302384874e-15, 4.284534164796876e-15, -0.008330043984469087, -0.008330043984475876], [-4.271188043403938e-15, -8.647979302384874e-15, -5.628356667119459e-15, -0.008211627775613102, -0.00821162777561723], [-4.271188043403938e-15, -8.647979302384874e-15, -5.628356667119459e-15, -0.008205948089012824, -0.008205948089016772], [-4.271188043403938e-15, 1.5374185426461997e-14, 4.284534164796876e-15, -0.006965238087816396, -0.006965238087817383], [-4.271188043403938e-15, -8.647979302384874e-15, 4.284534164796876e-15, -0.006632806244418826, -0.006632806244419678], [7.182743129076331e-15, 1.5374185426461997e-14, 4.284534164796876e-15, -0.0054405742008704775, -0.005440574200870027], [-4.271188043403938e-15, -8.647979302384874e-15, -5.628356667119459e-15, -0.008217845231780891, -0.008217845231785046], [-4.271188043403938e-15, -8.647979302384874e-15, -5.628356667119459e-15, -0.008073483552251449, -0.008073483552254316], [-4.271188043403938e-15, -8.647979302384874e-15, -5.628356667119459e-15, -0.005266123165019651, -0.005266123165018347], [-4.271188043403938e-15, -8.647979302384874e-15, -5.628356667119459e-15, 0.0029881611354299, 0.002988161135434593], [-4.271188043403938e-15, 1.5374185426461997e-14, -5.628356667119459e-15, -0.007947756453606696, -0.007947756453609556], [-4.271188043403938e-15, -8.647979302384874e-15, 4.284534164796876e-15, -0.008341011533754727, -0.00834101153375762], [-4.271188043403938e-15, -8.647979302384874e-15, -5.628356667119459e-15, -0.008276095055799263, -0.008276095055804808], [-4.271188043403938e-15, 1.5374185426461997e-14, 4.284534164796876e-15, 9.457146282029641e-05, 9.457146282463262e-05], [7.182743129076331e-15, 1.5374185426461997e-14, 7.250073239721703e-15, 0.027322684076752646, 0.027322684076762225], [7.182743129076331e-15, 1.5374185426461997e-14, 7.250073239721703e-15, 0.09198891566602854, 0.09198891566604644], [-4.271188043403938e-15, 1.5374185426461997e-14, 7.250073239721703e-15, 0.0764547888846427, 0.07645478888466309], [-4.271188043403938e-15, -8.647979302384874e-15, 4.284534164796876e-15, 0.010639051026615946, 0.010639051026623709], [-4.271188043403938e-15, 1.5374185426461997e-14, -5.628356667119459e-15, -0.00815545770389317, -0.008155457703897336], [-4.271188043403938e-15, -8.647979302384874e-15, -5.628356667119459e-15, -0.008189165306123397, -0.008189165306127118], [-4.271188043403938e-15, -8.647979302384874e-15, 7.250073239721703e-15, 0.07727967817783432, 0.07727967817784887], [5.550700513548274e-15, -8.647979302384874e-15, -5.628356667119459e-15, -0.005242244437670926, -0.005242244437666452], [-4.271188043403938e-15, -8.647979302384874e-15, 7.250073239721703e-15, 0.0014131730046089506, 0.0014131730046144384], [-4.271188043403938e-15, 1.5374185426461997e-14, 7.250073239721703e-15, -0.004297921690953029, -0.0042979216909506505], [7.182743129076331e-15, -8.647979302384874e-15, 7.250073239721703e-15, 0.02562532699104008, 0.025625326991049347], [-4.271188043403938e-15, 1.5374185426461997e-14, -5.628356667119459e-15, -0.007674203779377787, -0.00767420377937887], [7.182743129076331e-15, -8.647979302384874e-15, 7.250073239721703e-15, 0.03766684121728622, 0.037666841217297124], [-4.271188043403938e-15, -8.647979302384874e-15, -5.628356667119459e-15, -0.0008619875811543814, -0.0008619875811509038], [5.550700513548274e-15, 1.5374185426461997e-14, -5.628356667119459e-15, -0.00811428784068332, -0.008114287840685668], [5.550700513548274e-15, 1.5374185426461997e-14, -5.628356667119459e-15, -0.008177787152216745, -0.008177787152220107], [-4.271188043403938e-15, -8.647979302384874e-15, -5.628356667119459e-15, -0.008233334340539127, -0.0082333343405432], [-4.271188043403938e-15, -8.647979302384874e-15, -5.628356667119459e-15, -0.0081955405129437, -0.008195540512947448], [5.550700513548274e-15, 1.5374185426461997e-14, -5.628356667119459e-15, -0.008055993387477606, -0.008055993387479145], [-4.271188043403938e-15, -8.647979302384874e-15, -5.628356667119459e-15, -0.008077918798802182, -0.008077918798806363], [5.550700513548274e-15, 1.5374185426461997e-14, -5.628356667119459e-15, -0.008164598183056235, -0.008164598183059391], [-4.271188043403938e-15, 1.5374185426461997e-14, 7.250073239721703e-15, -0.005174362567856244, -0.005174362567854891], [7.182743129076331e-15, -8.647979302384874e-15, -5.628356667119459e-15, -0.00802146160082765, -0.008021461600831432], [-4.271188043403938e-15, -8.647979302384874e-15, 4.284534164796876e-15, -0.006871991210130196, -0.006871991210126263], [7.182743129076331e-15, -8.647979302384874e-15, -5.628356667119459e-15, -0.007966414623057274, -0.00796641462305717], [7.182743129076331e-15, 1.5374185426461997e-14, 4.284534164796876e-15, -0.008196758193691119, -0.008196758193696075], [-4.271188043403938e-15, 1.5374185426461997e-14, 7.250073239721703e-15, 0.0251067230458236, 0.02510672304583315], [-4.271188043403938e-15, -8.647979302384874e-15, -5.628356667119459e-15, -0.008245379209117392, -0.008245379209121998], [-4.271188043403938e-15, -8.647979302384874e-15, -5.628356667119459e-15, -0.008264443212473552, -0.008264443212478507], [-4.271188043403938e-15, -8.647979302384874e-15, 7.250073239721703e-15, -0.0009117087949650835, -0.0009117087949610133], [-4.271188043403938e-15, -8.647979302384874e-15, -5.628356667119459e-15, -0.008157923431462726, -0.008157923431465857], [-4.271188043403938e-15, 1.5374185426461997e-14, 4.284534164796876e-15, -0.007722255876454247, -0.0077222558764559164], [-4.271188043403938e-15, -8.647979302384874e-15, -5.628356667119459e-15, -0.008199362692104804, -0.008199362692108567], [-4.271188043403938e-15, -8.647979302384874e-15, 7.250073239721703e-15, -0.0027149464803188908, -0.0027149464803152864], [7.182743129076331e-15, -8.647979302384874e-15, 7.250073239721703e-15, -0.0011083025014291953, -0.0011083025014261253], [5.550700513548274e-15, 1.5374185426461997e-14, -5.628356667119459e-15, -0.007861331536286657, -0.007861331536289677], [-4.271188043403938e-15, -8.647979302384874e-15, -5.628356667119459e-15, -0.008236418415765674, -0.008236418415770228], [-4.271188043403938e-15, -8.647979302384874e-15, -5.628356667119459e-15, -0.00027561436045229305, -0.00027561436044861294], [-4.271188043403938e-15, -8.647979302384874e-15, 4.284534164796876e-15, -0.002273849631639919, -0.0022738496316355348], [-4.271188043403938e-15, 1.5374185426461997e-14, -5.628356667119459e-15, -0.008038436106389038, -0.00803843610639037], [7.182743129076331e-15, 1.5374185426461997e-14, 7.250073239721703e-15, 0.049074160904331345, 0.04907416090434332], [-4.271188043403938e-15, 1.5374185426461997e-14, -5.628356667119459e-15, -0.008259922080988583, -0.008259922080993722], [5.550700513548274e-15, 1.5374185426461997e-14, -5.628356667119459e-15, -0.008290731873148549, -0.008290731873154503], [-4.271188043403938e-15, 1.5374185426461997e-14, 4.284534164796876e-15, -0.008156046536878563, -0.008156046536882731], [-4.271188043403938e-15, -8.647979302384874e-15, 7.250073239721703e-15, -0.0019857225892989648, -0.001985722589294874], [7.182743129076331e-15, -8.647979302384874e-15, 7.250073239721703e-15, 0.06993321910638968, 0.06993321910640342], [7.182743129076331e-15, -8.647979302384874e-15, 7.250073239721703e-15, 0.04791702699957003, 0.047917026999582224], [-4.271188043403938e-15, 1.5374185426461997e-14, 7.250073239721703e-15, 0.6683473074962517, 0.6683473074962872], [-4.271188043403938e-15, -8.647979302384874e-15, -5.628356667119459e-15, -0.008267780451720504, -0.008267780451725703], [-4.271188043403938e-15, -8.647979302384874e-15, -5.628356667119459e-15, -0.008260662620766286, -0.00826066262077114], [-4.271188043403938e-15, -8.647979302384874e-15, -5.628356667119459e-15, -0.008262998911408633, -0.008262998911413794], [-4.271188043403938e-15, 1.5374185426461997e-14, -5.628356667119459e-15, -0.0072043155113316396, -0.007204315511333284], [7.182743129076331e-15, -8.647979302384874e-15, -5.628356667119459e-15, -0.008105676932245771, -0.008105676932248097], [-4.271188043403938e-15, -8.647979302384874e-15, 7.250073239721703e-15, 0.0030086546624550287, 0.003008654662460085], [-4.271188043403938e-15, 1.5374185426461997e-14, -5.628356667119459e-15, -0.008087709856016728, -0.00808770985602063], [7.182743129076331e-15, 1.5374185426461997e-14, 7.250073239721703e-15, -0.0018963043171081342, -0.001896304317104652], [-4.271188043403938e-15, -8.647979302384874e-15, 4.284534164796876e-15, -0.008341011533551441, -0.008341011533554538], [-4.271188043403938e-15, 1.5374185426461997e-14, 4.284534164796876e-15, -0.007813787798882539, -0.007813787798884716], [-4.271188043403938e-15, -8.647979302384874e-15, -5.628356667119459e-15, -0.007878138123718107, -0.007878138123717616], [-4.271188043403938e-15, -8.647979302384874e-15, -5.628356667119459e-15, -0.008233334340539127, -0.0082333343405432], [5.550700513548274e-15, 1.5374185426461997e-14, -5.628356667119459e-15, -0.008289841249880463, -0.008289841249885998], [-4.271188043403938e-15, -8.647979302384874e-15, -5.628356667119459e-15, -0.008098783578814354, -0.008098783578816496], [-4.271188043403938e-15, 1.5374185426461997e-14, -5.628356667119459e-15, -0.008016865552458122, -0.008016865552461784], [-4.271188043403938e-15, 1.5374185426461997e-14, -5.628356667119459e-15, -0.00817726019694865, -0.008177260196952169], [-4.271188043403938e-15, -8.647979302384874e-15, 7.250073239721703e-15, -0.006425384494898348, -0.006425384494898915], [-4.271188043403938e-15, -8.647979302384874e-15, -5.628356667119459e-15, -0.008218074860418433, -0.008218074860422113], [-4.271188043403938e-15, -8.647979302384874e-15, 4.284534164796876e-15, -0.006632806246962424, -0.00663280624696007], [7.182743129076331e-15, -8.647979302384874e-15, 7.250073239721703e-15, -0.0030112317885208633, -0.0030112317885183392], [-4.271188043403938e-15, 1.5374185426461997e-14, 4.284534164796876e-15, -0.00821719201288099, -0.008217192012886404], [-4.271188043403938e-15, -8.647979302384874e-15, -5.628356667119459e-15, -0.005720988354638237, -0.005720988354637541], [5.550700513548274e-15, -8.647979302384874e-15, -5.628356667119459e-15, -0.008240245485428744, -0.00824024548543332], [-4.271188043403938e-15, -8.647979302384874e-15, -5.628356667119459e-15, -0.008194926906515233, -0.008194926906518978], [-4.271188043403938e-15, -8.647979302384874e-15, 7.250073239721703e-15, -0.008341011535584296, -0.008341011535585365], [-4.271188043403938e-15, 1.5374185426461997e-14, -5.628356667119459e-15, -0.008236487768858823, -0.008236487768863227], [-4.271188043403938e-15, -8.647979302384874e-15, -5.628356667119459e-15, -0.008341011531518588, -0.00834101153152371], [-4.271188043403938e-15, -8.647979302384874e-15, -5.628356667119459e-15, -0.008241952107698182, -0.008241952107702916], [7.182743129076331e-15, 1.5374185426461997e-14, 4.284534164796876e-15, -0.008335018923318657, -0.00833501892332246], [-4.271188043403938e-15, 1.5374185426461997e-14, -5.628356667119459e-15, -0.008157923431462726, -0.008157923431465857], [-4.271188043403938e-15, -8.647979302384874e-15, -5.628356667119459e-15, -0.008245004604166637, -0.00824500460417139], [5.550700513548274e-15, 1.5374185426461997e-14, -5.628356667119459e-15, -0.008112088431261653, -0.008112088431263995], [-4.271188043403938e-15, -8.647979302384874e-15, -5.628356667119459e-15, -0.00804520816650151, -0.008045208166502331], [-4.271188043403938e-15, 1.5374185426461997e-14, 4.284534164796876e-15, -0.007813787798882539, -0.007813787798884716], [7.182743129076331e-15, 1.5374185426461997e-14, 7.250073239721703e-15, -0.0010065298257722897, -0.0010065298257676608], [-4.271188043403938e-15, 1.5374185426461997e-14, 7.250073239721703e-15, 0.1184922371468624, 0.11849223714689595], [-4.271188043403938e-15, 1.5374185426461997e-14, 7.250073239721703e-15, 0.07359896836811829, 0.07359896836813253], [-4.271188043403938e-15, 1.5374185426461997e-14, -5.628356667119459e-15, -0.008089846812005023, -0.008089846812007638], [-4.271188043403938e-15, 1.5374185426461997e-14, 4.284534164796876e-15, -0.008205118903617796, -0.00820511890362186], [7.182743129076331e-15, -8.647979302384874e-15, 7.250073239721703e-15, 0.07205581389473398, 0.07205581389474794], [7.182743129076331e-15, 1.5374185426461997e-14, 7.250073239721703e-15, 0.06683048602394184, 0.06683048602395536], [-4.271188043403938e-15, -8.647979302384874e-15, -5.628356667119459e-15, -0.008286764013321318, -0.008286764013326044], [7.182743129076331e-15, 1.5374185426461997e-14, -5.628356667119459e-15, -0.008143964827230283, -0.008143964827232708], [-4.271188043403938e-15, -8.647979302384874e-15, -5.628356667119459e-15, -0.007935579631162924, -0.007935579631164405], [-4.271188043403938e-15, 1.5374185426461997e-14, 4.284534164796876e-15, -0.006798893913761858, -0.006798893913762751], [7.182743129076331e-15, -8.647979302384874e-15, 7.250073239721703e-15, -0.007558269523976146, -0.007558269523978676], [7.182743129076331e-15, -8.647979302384874e-15, -5.628356667119459e-15, -0.008205948089012824, -0.008205948089016772], [7.182743129076331e-15, 1.5374185426461997e-14, 7.250073239721703e-15, 0.054183587460094315, 0.054183587460108214], [-4.271188043403938e-15, -8.647979302384874e-15, -5.628356667119459e-15, -0.00806094389142333, -0.00806094389142505], [-4.271188043403938e-15, 1.5374185426461997e-14, 7.250073239721703e-15, -0.003831477112058928, -0.0038314771120571125], [-4.271188043403938e-15, -8.647979302384874e-15, -5.628356667119459e-15, -0.008187438678703852, -0.00818743867870741], [7.182743129076331e-15, -8.647979302384874e-15, -5.628356667119459e-15, -0.007409637631310138, -0.00740963763131117], [7.182743129076331e-15, 1.5374185426461997e-14, -5.628356667119459e-15, -0.008030929832286872, -0.008030929832290869], [-4.271188043403938e-15, 1.5374185426461997e-14, -5.628356667119459e-15, -0.005960481659086869, -0.005960481659085746], [7.182743129076331e-15, -8.647979302384874e-15, -5.628356667119459e-15, -0.008340986586749182, -0.008340986586758324], [-4.271188043403938e-15, -8.647979302384874e-15, -5.628356667119459e-15, -0.008297840386940048, -0.008297840386945275], [-4.271188043403938e-15, -8.647979302384874e-15, -5.628356667119459e-15, -0.006962179114419558, -0.0069621791144207235], [-4.271188043403938e-15, -8.647979302384874e-15, 4.284534164796876e-15, -0.007778053736586524, -0.007778053736588498], [7.182743129076331e-15, -8.647979302384874e-15, -5.628356667119459e-15, -0.00825333340606976, -0.008253333406074412], [7.182743129076331e-15, -8.647979302384874e-15, -5.628356667119459e-15, -0.00825333340606976, -0.008253333406074412], [-4.271188043403938e-15, -8.647979302384874e-15, -5.628356667119459e-15, -0.008065846337233172, -0.00806584633723507], [-4.271188043403938e-15, 1.5374185426461997e-14, -5.628356667119459e-15, -0.0048157109879072985, -0.00481571098790421], [-4.271188043403938e-15, 1.5374185426461997e-14, 4.284534164796876e-15, -0.001508189402532466, -0.0015081894025295631], [-4.271188043403938e-15, 1.5374185426461997e-14, 7.250073239721703e-15, 0.02369313077360527, 0.023693130773614672], [7.182743129076331e-15, -8.647979302384874e-15, 4.284534164796876e-15, -0.003779683430411552, -0.0037796834304099584], [-4.271188043403938e-15, -8.647979302384874e-15, -5.628356667119459e-15, -0.0072617313481385375, -0.0072617313481397675], [-4.271188043403938e-15, -8.647979302384874e-15, 7.250073239721703e-15, -0.005516438878243211, -0.005516438878242563], [-4.271188043403938e-15, -8.647979302384874e-15, 4.284534164796876e-15, 0.026821898377771193, 0.026821898377780592], [-4.271188043403938e-15, 1.5374185426461997e-14, -5.628356667119459e-15, -0.007843109211812232, -0.007843109211812907], [-4.271188043403938e-15, -8.647979302384874e-15, 4.284534164796876e-15, -0.008341011532128444, -0.008341011532132958], [-4.271188043403938e-15, 1.5374185426461997e-14, 4.284534164796876e-15, -0.007385613370599846, -0.007385613370598343], [5.550700513548274e-15, -8.647979302384874e-15, -5.628356667119459e-15, -0.008329250205390186, -0.008329250205395636], [7.182743129076331e-15, -8.647979302384874e-15, 7.250073239721703e-15, 0.0019447108214210509, 0.0019447108214270274], [-4.271188043403938e-15, 1.5374185426461997e-14, -5.628356667119459e-15, -0.00832744967468726, -0.008327449674692391], [-4.271188043403938e-15, -8.647979302384874e-15, -5.628356667119459e-15, -0.007886146546795085, -0.007886146546794958], [-4.271188043403938e-15, 1.5374185426461997e-14, 4.284534164796876e-15, -0.006930075961124307, -0.006930075961125725], [-4.271188043403938e-15, -8.647979302384874e-15, 4.284534164796876e-15, -0.008041398757922286, -0.008041398757925238], [-4.271188043403938e-15, -8.647979302384874e-15, 7.250073239721703e-15, -0.0023013339185720214, -0.002301333918562145], [-4.271188043403938e-15, -8.647979302384874e-15, 4.284534164796876e-15, -0.008151211052203452, -0.008151211052208058], [-4.271188043403938e-15, 1.5374185426461997e-14, 4.284534164796876e-15, -0.007099376023080586, -0.007099376023077665], [7.182743129076331e-15, 1.5374185426461997e-14, 4.284534164796876e-15, -0.008287077857602161, -0.008287077857605558], [-4.271188043403938e-15, -8.647979302384874e-15, 7.250073239721703e-15, 0.05634843499846857, 0.05634843499848351], [-4.271188043403938e-15, -8.647979302384874e-15, -5.628356667119459e-15, -0.00833413717652672, -0.008334137176534438], [-4.271188043403938e-15, -8.647979302384874e-15, -5.628356667119459e-15, -0.008198168977771569, -0.008198168977775006], [-4.271188043403938e-15, 1.5374185426461997e-14, 7.250073239721703e-15, 0.0031407544250083956, 0.0031407544250130278], [-4.271188043403938e-15, -8.647979302384874e-15, 7.250073239721703e-15, -0.005213007067744624, -0.005213007067743594], [-4.271188043403938e-15, 1.5374185426461997e-14, 4.284534164796876e-15, -0.008188147913363827, -0.00818814791336849], [7.182743129076331e-15, -8.647979302384874e-15, -5.628356667119459e-15, -0.00832635519567354, -0.008326355195680828], [7.182743129076331e-15, -8.647979302384874e-15, -5.628356667119459e-15, -0.008172493754301766, -0.0081724937543047], [7.182743129076331e-15, -8.647979302384874e-15, 4.284534164796876e-15, -0.007781148673097939, -0.00778114867310019], [5.550700513548274e-15, -8.647979302384874e-15, -5.628356667119459e-15, -0.008141798061820995, -0.008141798061823751], [-4.271188043403938e-15, -8.647979302384874e-15, -5.628356667119459e-15, -0.00833954415468402, -0.008339544154690943], [-4.271188043403938e-15, -8.647979302384874e-15, 7.250073239721703e-15, -0.004916184498276693, -0.004916184498275931], [-4.271188043403938e-15, -8.647979302384874e-15, -5.628356667119459e-15, -0.008145490796192997, -0.008145490796196706], [-4.271188043403938e-15, -8.647979302384874e-15, -5.628356667119459e-15, -0.0028771545058845363, -0.0028771545058819546], [5.550700513548274e-15, 1.5374185426461997e-14, -5.628356667119459e-15, -0.008287943259367225, -0.008287943259373019], [-4.271188043403938e-15, -8.647979302384874e-15, -5.628356667119459e-15, -0.008132054474080079, -0.008132054474082889], [-4.271188043403938e-15, -8.647979302384874e-15, -5.628356667119459e-15, -0.008183473520560987, -0.008183473520564529], [-4.271188043403938e-15, -8.647979302384874e-15, 4.284534164796876e-15, -0.005514561150580209, -0.005514561150578563], [-4.271188043403938e-15, 1.5374185426461997e-14, 4.284534164796876e-15, -0.00812953629671225, -0.008129536296716653], [7.182743129076331e-15, -8.647979302384874e-15, -5.628356667119459e-15, -0.008178163029090304, -0.008178163029093338], [-4.271188043403938e-15, -8.647979302384874e-15, 4.284534164796876e-15, -0.006133659324674231, -0.0061336593246735975], [7.182743129076331e-15, -8.647979302384874e-15, -5.628356667119459e-15, -0.008188661685692865, -0.008188661685696102], [-4.271188043403938e-15, -8.647979302384874e-15, 4.284534164796876e-15, -0.006141949845875664, -0.0061419498458718915], [-4.271188043403938e-15, -8.647979302384874e-15, -5.628356667119459e-15, -0.008186102937121147, -0.008186102937124537], [-4.271188043403938e-15, 1.5374185426461997e-14, -5.628356667119459e-15, -0.00796581614593493, -0.007965816145934555], [5.550700513548274e-15, -8.647979302384874e-15, -5.628356667119459e-15, -0.008240245485428744, -0.00824024548543332], [7.182743129076331e-15, -8.647979302384874e-15, -5.628356667119459e-15, -0.008227922314219155, -0.008227922314223202], [-4.271188043403938e-15, 1.5374185426461997e-14, -5.628356667119459e-15, -0.007985174858940654, -0.007985174858944547], [5.550700513548274e-15, -8.647979302384874e-15, -5.628356667119459e-15, -0.007550405321899961, -0.007550405321896627], [-4.271188043403938e-15, -8.647979302384874e-15, 7.250073239721703e-15, 0.00015274499948397558, 0.00015274499948757415], [-4.271188043403938e-15, -8.647979302384874e-15, -5.628356667119459e-15, -0.008255842735952042, -0.008255842735956712], [-4.271188043403938e-15, -8.647979302384874e-15, 4.284534164796876e-15, -0.007945007959062594, -0.007945007959065581], [-4.271188043403938e-15, -8.647979302384874e-15, -5.628356667119459e-15, -0.00813964384497955, -0.0081396438449823], [-4.271188043403938e-15, -8.647979302384874e-15, 7.250073239721703e-15, -0.008341011536397437, -0.008341011536397696], [5.550700513548274e-15, -8.647979302384874e-15, -5.628356667119459e-15, -0.007306232932196921, -0.007306232932191675], [-4.271188043403938e-15, 1.5374185426461997e-14, -5.628356667119459e-15, -0.008225846747531912, -0.008225846747536259], [7.182743129076331e-15, 1.5374185426461997e-14, 7.250073239721703e-15, 0.024729850158511802, 0.024729850158521288], [-4.271188043403938e-15, -8.647979302384874e-15, 4.284534164796876e-15, -0.008102162082108778, -0.008102162082112337], [-4.271188043403938e-15, -8.647979302384874e-15, -5.628356667119459e-15, -0.008341011533754727, -0.00834101153375762], [7.182743129076331e-15, -8.647979302384874e-15, 7.250073239721703e-15, 0.0020632772540187024, 0.0020632772540231767], [-4.271188043403938e-15, 1.5374185426461997e-14, 4.284534164796876e-15, -0.007906138146810194, -0.007906138146812828], [7.182743129076331e-15, -8.647979302384874e-15, 7.250073239721703e-15, -0.0009801507153652026, -0.0009801507153613129], [-4.271188043403938e-15, 1.5374185426461997e-14, -5.628356667119459e-15, -0.00825155194625594, -0.008251551946260732], [7.182743129076331e-15, -8.647979302384874e-15, 7.250073239721703e-15, 0.3792973112697269, 0.37929731126975824], [7.182743129076331e-15, 1.5374185426461997e-14, 7.250073239721703e-15, -0.003448042522935696, -0.0034480425229336626]]]\n"
          ]
        }
      ],
      "execution_count": 22,
      "metadata": {
        "collapsed": true,
        "jupyter": {
          "source_hidden": false,
          "outputs_hidden": false
        },
        "nteract": {
          "transient": {
            "deleting": false
          }
        },
        "gather": {
          "logged": 1630218292075
        }
      }
    },
    {
      "cell_type": "code",
      "source": [
        "# Note: Do not run this cell if using PFIExplainer, it does not support local explanations\r\n",
        "# You can pass a specific data point or a group of data points to the explain_local function\r\n",
        "\r\n",
        "# E.g., Explain the first data point in the test set\r\n",
        "instance_num = 1\r\n",
        "local_explanation = explainer.explain_local(x_test[:instance_num])"
      ],
      "outputs": [
        {
          "output_type": "stream",
          "name": "stdout",
          "text": [
            "Many to one/many maps found in input\n"
          ]
        }
      ],
      "execution_count": 23,
      "metadata": {
        "collapsed": true,
        "jupyter": {
          "source_hidden": false,
          "outputs_hidden": false
        },
        "nteract": {
          "transient": {
            "deleting": false
          }
        },
        "gather": {
          "logged": 1630218312708
        }
      }
    },
    {
      "cell_type": "code",
      "source": [
        "# Get the prediction for the first member of the test set and explain why model made that prediction\r\n",
        "prediction_value = clf.predict(x_test)[instance_num]\r\n",
        "\r\n",
        "sorted_local_importance_values = local_explanation.get_ranked_local_values()[prediction_value]\r\n",
        "sorted_local_importance_names = local_explanation.get_ranked_local_names()[prediction_value]\r\n",
        "\r\n",
        "print('local importance values: {}'.format(sorted_local_importance_values))\r\n",
        "print('local importance names: {}'.format(sorted_local_importance_names))"
      ],
      "outputs": [
        {
          "output_type": "stream",
          "name": "stdout",
          "text": [
            "local importance values: [[-4.271188043403938e-15, -5.628356667119459e-15, -8.647979302384874e-15, -0.008125449913578246, -0.00812544991358028]]\n",
            "local importance names: [['embarked', 'pclass', 'sex', 'age', 'fare']]\n"
          ]
        }
      ],
      "execution_count": 24,
      "metadata": {
        "collapsed": true,
        "jupyter": {
          "source_hidden": false,
          "outputs_hidden": false
        },
        "nteract": {
          "transient": {
            "deleting": false
          }
        },
        "gather": {
          "logged": 1630218324678
        }
      }
    },
    {
      "cell_type": "code",
      "source": [],
      "outputs": [],
      "execution_count": null,
      "metadata": {
        "collapsed": true,
        "jupyter": {
          "source_hidden": false,
          "outputs_hidden": false
        },
        "nteract": {
          "transient": {
            "deleting": false
          }
        }
      }
    }
  ],
  "metadata": {
    "kernelspec": {
      "name": "python3-azureml",
      "language": "python",
      "display_name": "Python 3.6 - AzureML"
    },
    "language_info": {
      "name": "python",
      "version": "3.6.9",
      "mimetype": "text/x-python",
      "codemirror_mode": {
        "name": "ipython",
        "version": 3
      },
      "pygments_lexer": "ipython3",
      "nbconvert_exporter": "python",
      "file_extension": ".py"
    },
    "kernel_info": {
      "name": "python3-azureml"
    },
    "nteract": {
      "version": "nteract-front-end@1.0.0"
    },
    "microsoft": {
      "host": {
        "AzureML": {
          "notebookHasBeenCompleted": true
        }
      }
    }
  },
  "nbformat": 4,
  "nbformat_minor": 2
}